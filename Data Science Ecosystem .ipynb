{
 "cells": [
  {
   "cell_type": "markdown",
   "id": "55d82a4d",
   "metadata": {},
   "source": [
    "# Data science Tools and Ecosystem"
   ]
  },
  {
   "cell_type": "markdown",
   "id": "449869a9",
   "metadata": {},
   "source": [
    "## In this Notebook, Data science tools and ecosystems are summarized.\n",
    "\n",
    "### Some of the key take aways in this course are:\n",
    "\n",
    "### **Objectives** \n",
    "1. Tools used in Datascience \n",
    "2. languages used in DataScience\n",
    "3. Arithmetic Expressions\n",
    "    "
   ]
  },
  {
   "cell_type": "markdown",
   "id": "d583fcf7",
   "metadata": {},
   "source": [
    "### Some of the popular languages that Data Scientists use are:\n",
    "\n",
    "1. Python\n",
    "2. R language \n",
    "3. SQL\n",
    "4. Scala\n",
    "5. Ruby"
   ]
  },
  {
   "cell_type": "markdown",
   "id": "6c26ddb7",
   "metadata": {},
   "source": [
    "### Some ofthe commonly used libraries by Data Scientists include:\n",
    "\n",
    "1. Pandas\n",
    "2. Numpy\n",
    "3. Matplotlib\n",
    "4. Seaborn\n",
    "5. Plotly"
   ]
  },
  {
   "cell_type": "markdown",
   "id": "e9a0cd9e",
   "metadata": {},
   "source": [
    "# Data Science Tools \n",
    "\n",
    "\n",
    "    \n",
    "Data Science Tools|Type|\n",
    "------------------|----|\n",
    "  Jupyter|Open source|\n",
    " MySq|Open source|\n",
    " PostgreSql|Open source|\n",
    " Cassandra|Open source|"
   ]
  },
  {
   "cell_type": "markdown",
   "id": "586e6ca5",
   "metadata": {},
   "source": [
    "# Arithmetic Expressions Examples\n",
    "\n",
    "### Below are a few examples of evaluating arithmetic expressions in Python"
   ]
  },
  {
   "cell_type": "code",
   "execution_count": 1,
   "id": "fc05a956",
   "metadata": {},
   "outputs": [
    {
     "data": {
      "text/plain": [
       "17"
      ]
     },
     "execution_count": 1,
     "metadata": {},
     "output_type": "execute_result"
    }
   ],
   "source": [
    "#This a simple arithmetic expression to mutiply then add integers\n",
    "\n",
    "(3*4)+5"
   ]
  },
  {
   "cell_type": "code",
   "execution_count": 4,
   "id": "ac783106",
   "metadata": {},
   "outputs": [
    {
     "data": {
      "text/plain": [
       "3.3333333333333335"
      ]
     },
     "execution_count": 4,
     "metadata": {},
     "output_type": "execute_result"
    }
   ],
   "source": [
    "#This will convert 200 minutes to hours by diving by 60.\n",
    "\n",
    "200/60"
   ]
  },
  {
   "cell_type": "markdown",
   "id": "4187000b",
   "metadata": {},
   "source": [
    "## Author\n",
    "\n",
    "### NR Benhail Benjamin"
   ]
  }
 ],
 "metadata": {
  "kernelspec": {
   "display_name": "Python 3 (ipykernel)",
   "language": "python",
   "name": "python3"
  },
  "language_info": {
   "codemirror_mode": {
    "name": "ipython",
    "version": 3
   },
   "file_extension": ".py",
   "mimetype": "text/x-python",
   "name": "python",
   "nbconvert_exporter": "python",
   "pygments_lexer": "ipython3",
   "version": "3.10.9"
  }
 },
 "nbformat": 4,
 "nbformat_minor": 5
}
